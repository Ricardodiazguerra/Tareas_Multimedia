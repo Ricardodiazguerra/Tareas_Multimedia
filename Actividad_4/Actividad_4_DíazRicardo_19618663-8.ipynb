{
  "cells": [
    {
      "cell_type": "markdown",
      "metadata": {
        "id": "view-in-github",
        "colab_type": "text"
      },
      "source": [
        "<a href=\"https://colab.research.google.com/github/Ricardodiazguerra/Tareas_Multimedia/blob/main/Actividad_4/Actividad_4_D%C3%ADazRicardo_19618663-8.ipynb\" target=\"_parent\"><img src=\"https://colab.research.google.com/assets/colab-badge.svg\" alt=\"Open In Colab\"/></a>"
      ]
    },
    {
      "cell_type": "markdown",
      "id": "0a22500b-75f6-4e9e-bff8-e2166e04bd6a",
      "metadata": {
        "id": "0a22500b-75f6-4e9e-bff8-e2166e04bd6a"
      },
      "source": [
        "<h1><center>\n",
        "\n",
        "</center></h1>\n",
        "<font size=\"6\"><center>\n",
        "EIE 401\n",
        "PROCESAMIENTO DIGITAL MULTIMEDIA\n",
        "</center></font>"
      ]
    },
    {
      "cell_type": "markdown",
      "id": "4bb821ab-49e9-40ef-8ecd-d491bba9452c",
      "metadata": {
        "id": "4bb821ab-49e9-40ef-8ecd-d491bba9452c"
      },
      "source": [
        "\n",
        "<center><h2>Actividad 4</h2></center>\n",
        "<center><h3>Audio</h3></center>\n",
        "<center><h3>Profesor: Jorge Cardenas</h3></center>\n",
        "\n",
        "<center><h3>Por: _______</h3></center>\n",
        "<center><h5>Pontificia Universidad Catolica de Valparaiso</h5></center>\n"
      ]
    },
    {
      "cell_type": "markdown",
      "id": "3e467e9a",
      "metadata": {
        "id": "3e467e9a"
      },
      "source": [
        "## 1. Realiza la operación de convolución\n",
        "\n",
        "<p align=\"justify\">\n",
        "Una de las operaciones más comunes en tratamiento de imagenes, video etc, es la convolución. Comienza por realizar una convolución entre una señal Pulso y una función impulso filtrada.\n",
        "\n",
        "\n",
        "<center><img src=\"../../assets/scipy-signal-convolution.png\"/></center>\n"
      ]
    },
    {
      "cell_type": "markdown",
      "id": "dd6609ed",
      "metadata": {
        "id": "dd6609ed"
      },
      "source": []
    },
    {
      "cell_type": "code",
      "execution_count": null,
      "id": "30dc5084",
      "metadata": {
        "id": "30dc5084"
      },
      "outputs": [],
      "source": [
        "import numpy as np\n",
        "import matplotlib.pyplot as plt"
      ]
    },
    {
      "cell_type": "code",
      "source": [
        "def pulso(t):\n",
        "    return np.where(np.abs(t) < 0.5, 1, 0)\n",
        "dt = 0.01\n",
        "t = np.arange(-5,5,dt)\n",
        "señal_pulso = pulso(t)\n",
        "plt.subplot(5,1,1)\n",
        "plt.plot(t,señal_pulso)\n",
        "plt.show()"
      ],
      "metadata": {
        "colab": {
          "base_uri": "https://localhost:8080/",
          "height": 127
        },
        "id": "BOjoS_U6kPr_",
        "outputId": "5f98c41c-c8cb-4572-be08-8d46f98b5fe7"
      },
      "id": "BOjoS_U6kPr_",
      "execution_count": null,
      "outputs": [
        {
          "output_type": "display_data",
          "data": {
            "text/plain": [
              "<Figure size 640x480 with 1 Axes>"
            ],
            "image/png": "[encoded data removed]"
          },
          "metadata": {}
        }
      ]
    },
    {
      "cell_type": "code",
      "source": [
        "def impulso_filtrado(t):\n",
        "  return np.exp(-t**2)\n",
        "dt = 0.01\n",
        "t = np.arange(-5, 5, dt)\n",
        "plt.subplot(5, 1, 1)\n",
        "señal_filtrada = impulso_filtrado(t)\n",
        "plt.plot(t,señal_filtrada)\n",
        "plt.show()"
      ],
      "metadata": {
        "colab": {
          "base_uri": "https://localhost:8080/",
          "height": 127
        },
        "id": "7FxUOoyupGeV",
        "outputId": "c76b1da0-ae34-4a2d-885b-b62fb0053301"
      },
      "id": "7FxUOoyupGeV",
      "execution_count": null,
      "outputs": [
        {
          "output_type": "display_data",
          "data": {
            "text/plain": [
              "<Figure size 640x480 with 1 Axes>"
            ],
            "image/png": "[encoded data removed]"
          },
          "metadata": {}
        }
      ]
    },
    {
      "cell_type": "code",
      "source": [
        "def convolucion(s1, s2, dt):\n",
        "    r = np.convolve(s1, s2, mode='same') * dt\n",
        "    return r\n",
        "dt = 0.01\n",
        "t = np.arange(-5, 5, dt)\n",
        "pulso_signal = pulso(t)\n",
        "impulso_filtrado_signal = impulso_filtrado(t)\n",
        "convolved_signal = convolucion(pulso_signal, impulso_filtrado_signal, dt)\n",
        "plt.subplot(3, 1, 3)\n",
        "plt.plot(t, convolved_signal)\n",
        "plt.show()\n",
        "\n"
      ],
      "metadata": {
        "colab": {
          "base_uri": "https://localhost:8080/",
          "height": 213
        },
        "id": "E-3JukHxrEmO",
        "outputId": "9d538f14-d4e0-4293-c58e-bbf81bb01a60"
      },
      "id": "E-3JukHxrEmO",
      "execution_count": null,
      "outputs": [
        {
          "output_type": "display_data",
          "data": {
            "text/plain": [
              "<Figure size 640x480 with 1 Axes>"
            ],
            "image/png": "[encoded data removed]"
          },
          "metadata": {}
        }
      ]
    },
    {
      "cell_type": "markdown",
      "id": "28a477da",
      "metadata": {
        "id": "28a477da"
      },
      "source": [
        "## 2. Cancelación de Ruido (Denoising)\n",
        "<p align=\"justify\">\n",
        "Implementa un algoritmo para eliminar el ruido de una señal. Puedes apoyarte en esta referencia (https://www.youtube.com/watch?v=s2K1JfNR7Sc)\n",
        "\n",
        "1. Debes tener la señal original\n",
        "2. Debes agregar ruido a la señal\n",
        "3. Obtener el valor medio de la señal con ruido\n",
        "4. Implementar transformaciones y filtrado.\n",
        "    \n"
      ]
    },
    {
      "cell_type": "markdown",
      "id": "129f5a57",
      "metadata": {
        "id": "129f5a57"
      },
      "source": []
    },
    {
      "cell_type": "code",
      "execution_count": null,
      "id": "85a2f5e4",
      "metadata": {
        "id": "85a2f5e4"
      },
      "outputs": [],
      "source": []
    },
    {
      "cell_type": "code",
      "execution_count": null,
      "id": "686dc60e",
      "metadata": {
        "id": "686dc60e"
      },
      "outputs": [],
      "source": []
    },
    {
      "cell_type": "markdown",
      "id": "ada9a74e",
      "metadata": {
        "id": "ada9a74e"
      },
      "source": []
    },
    {
      "cell_type": "markdown",
      "id": "e577f596",
      "metadata": {
        "id": "e577f596"
      },
      "source": [
        "## 3. Wavelets\n",
        "### 3.1 Desarrolla una transformada wavelet 1D\n",
        "<p align=\"justify\">\n",
        "Implementa transformaciones con 1-D wavelet usando la función Mexican Hat Wavelet.\n",
        "\n",
        "$$\\psi(t) = \\frac{2}{\\sqrt{3} \\sqrt[4]{\\pi}} \\exp^{-\\frac{t^2}{2}}\n",
        "          \\left( 1 - t^2 \\right)$$"
      ]
    },
    {
      "cell_type": "code",
      "execution_count": null,
      "id": "041406f7",
      "metadata": {
        "id": "041406f7"
      },
      "outputs": [],
      "source": [
        "import numpy as np\n",
        "import matplotlib.pyplot as plt\n",
        "\n",
        "def mexican_hat(x, mu, sigma):\n",
        "\n",
        "    # your code\n",
        "    return 0\n"
      ]
    },
    {
      "cell_type": "code",
      "execution_count": null,
      "id": "4f7b658f",
      "metadata": {
        "id": "4f7b658f"
      },
      "outputs": [],
      "source": []
    },
    {
      "cell_type": "markdown",
      "id": "e667d4f2",
      "metadata": {
        "id": "e667d4f2"
      },
      "source": [
        "###  Explica el siguiente fragmento de código en detalle"
      ]
    },
    {
      "cell_type": "code",
      "execution_count": 2,
      "id": "a759912e",
      "metadata": {
        "id": "a759912e",
        "colab": {
          "base_uri": "https://localhost:8080/",
          "height": 211
        },
        "outputId": "4390926d-d7a6-4f4d-a681-61eb8d267367"
      },
      "outputs": [
        {
          "output_type": "error",
          "ename": "NameError",
          "evalue": "name 'mexican_hat' is not defined",
          "traceback": [
            "\u001b[0;31m---------------------------------------------------------------------------\u001b[0m",
            "\u001b[0;31mNameError\u001b[0m                                 Traceback (most recent call last)",
            "\u001b[0;32m<ipython-input-2-2ccaa581c526>\u001b[0m in \u001b[0;36m<cell line: 11>\u001b[0;34m()\u001b[0m\n\u001b[1;32m      9\u001b[0m     \u001b[0;32mreturn\u001b[0m \u001b[0mwav\u001b[0m\u001b[0;34m\u001b[0m\u001b[0;34m\u001b[0m\u001b[0m\n\u001b[1;32m     10\u001b[0m \u001b[0;34m\u001b[0m\u001b[0m\n\u001b[0;32m---> 11\u001b[0;31m \u001b[0mpsi\u001b[0m \u001b[0;34m=\u001b[0m \u001b[0mmexican_hat\u001b[0m\u001b[0;34m(\u001b[0m\u001b[0mnp\u001b[0m\u001b[0;34m.\u001b[0m\u001b[0marange\u001b[0m\u001b[0;34m(\u001b[0m\u001b[0;34m-\u001b[0m\u001b[0;36m5\u001b[0m\u001b[0;34m,\u001b[0m\u001b[0;36m5\u001b[0m\u001b[0;34m,\u001b[0m\u001b[0;36m0.1\u001b[0m\u001b[0;34m)\u001b[0m\u001b[0;34m,\u001b[0m\u001b[0;36m0\u001b[0m\u001b[0;34m,\u001b[0m\u001b[0;36m1\u001b[0m\u001b[0;34m)\u001b[0m\u001b[0;34m\u001b[0m\u001b[0;34m\u001b[0m\u001b[0m\n\u001b[0m\u001b[1;32m     12\u001b[0m \u001b[0mxlim\u001b[0m \u001b[0;34m=\u001b[0m \u001b[0;34m(\u001b[0m\u001b[0;36m0\u001b[0m\u001b[0;34m,\u001b[0m\u001b[0;36m350\u001b[0m\u001b[0;34m)\u001b[0m\u001b[0;34m\u001b[0m\u001b[0;34m\u001b[0m\u001b[0m\n\u001b[1;32m     13\u001b[0m \u001b[0mns\u001b[0m \u001b[0;34m=\u001b[0m \u001b[0;34m[\u001b[0m\u001b[0;36m1\u001b[0m\u001b[0;34m,\u001b[0m \u001b[0;36m30\u001b[0m\u001b[0;34m,\u001b[0m \u001b[0;36m60\u001b[0m\u001b[0;34m]\u001b[0m\u001b[0;34m\u001b[0m\u001b[0;34m\u001b[0m\u001b[0m\n",
            "\u001b[0;31mNameError\u001b[0m: name 'mexican_hat' is not defined"
          ]
        }
      ],
      "source": [
        "# we assume a0 = 2 and b0 = 1\n",
        "# These are the scaling and translation factors\n",
        "#using just o pair, means an specific wavelet\n",
        "def psi_mn(psi, m, n):\n",
        "    a = 2**m\n",
        "    b = n*2**m\n",
        "    wav = np.zeros(len(psi)*a + b)\n",
        "    wav[b:b+len(psi)*a] = np.interp(np.arange(len(psi)*a)/a,np.arange(len(psi)),psi)\n",
        "    return wav\n",
        "\n",
        "psi = mexican_hat(np.arange(-5,5,0.1),0,1)\n",
        "xlim = (0,350)\n",
        "ns = [1, 30, 60]\n",
        "ms = [0, 1]\n",
        "plt.figure(figsize=(15,4))\n",
        "plt.subplot(121)\n",
        "\n",
        "for mi in range(len(ms)):\n",
        "    m = ms[mi]\n",
        "    plt.subplot(1,len(ms),mi+1)\n",
        "    for n in ns:\n",
        "        plt.plot(psi_mn(psi, m, n), label=\"n=\"+str(n))\n",
        "    plt.title(\"m = \"+str(m))\n",
        "    plt.legend(loc=\"best\")\n",
        "    plt.xlim(xlim)\n",
        "plt.show()"
      ]
    },
    {
      "cell_type": "markdown",
      "id": "12bd04aa",
      "metadata": {
        "id": "12bd04aa"
      },
      "source": [
        "### Escribe un algoritmo para calcular la transformada discreta\n",
        "<p align=\"justify\">\n",
        "En cierta forma se trata solo de aplicar al sumatoria sobre una señal que tengas (obviamente debes definir una señal de estudio, con ruido o que tenga varías frecuencias involucradas).\n",
        "\n",
        "Debes hacerlo solo para un nivel (level). Recuerda que la transformada trabaja por niveles y puede ser dispendioso. En este caso de debe considerar que $$a_0=2$$ y $$b_0=1$$, así como también debe asumir un valor específico para _m_.\n"
      ]
    },
    {
      "cell_type": "markdown",
      "id": "97b02a36",
      "metadata": {
        "id": "97b02a36"
      },
      "source": [
        "### 3.2 Wavelet usando librería\n",
        "<p align=\"justify\">\n",
        "Usa la librería PyWavelets (pywt) con los datos provenientes del dataset  = \"http://paos.colorado.edu/research/wavelets/wave_idl/sst_nino3.dat\". Estos datos son históricos sobre el fenómeno del Niño.\n",
        "\n",
        "0. Debes descargar los datos desde python, usando numpy o pandas, debes aplicar la transformada continua pywt.cwt.\n",
        "\n",
        "1. Obtendrás los coeficientes de la transformación.\n",
        "2. Debes poner todos los resultados en términos de potencia.\n",
        "3. Debes graficar el resultado tanto en el periodo como en la frecuencia usando un plot tipo contour."
      ]
    },
    {
      "cell_type": "code",
      "execution_count": null,
      "id": "00e7d5ae",
      "metadata": {
        "id": "00e7d5ae"
      },
      "outputs": [],
      "source": []
    },
    {
      "cell_type": "markdown",
      "id": "bc5c10e6",
      "metadata": {
        "id": "bc5c10e6"
      },
      "source": [
        "### 3.3 Interpreta los resultados del punto anterior.\n",
        "<p align=\"justify\">\n",
        "Debes explicar que significa el gráfico obtenido  en términos del periodo o frecuencia del evento que estamos analizando."
      ]
    },
    {
      "cell_type": "code",
      "execution_count": null,
      "id": "d1b6be65",
      "metadata": {
        "id": "d1b6be65"
      },
      "outputs": [],
      "source": []
    },
    {
      "cell_type": "markdown",
      "id": "3add46e0-f5e2-4a20-8830-3e795f78d2a0",
      "metadata": {
        "id": "3add46e0-f5e2-4a20-8830-3e795f78d2a0"
      },
      "source": [
        "## 4. Referencias\n",
        "<p align=\"justify\">\n",
        "    \n",
        "[Análisis espectral para audio] https://ccrma.stanford.edu/~jos/mdft/mdft-python.html\n",
        "\n",
        "[Cancelación de ruido en datos] https://towardsdatascience.com/noise-cancellation-with-python-and-fourier-transform-97303314aa71\n",
        "\n",
        "[Convolución en Scipy]https://docs.scipy.org/doc/scipy/reference/generated/scipy.signal.convolve.html\n",
        "\n",
        "[Wavelet transform applications]https://scicoding.com/introduction-to-wavelet-transform-using-python/"
      ]
    },
    {
      "cell_type": "code",
      "execution_count": null,
      "id": "e92c4aa4-b5cb-4e20-96af-ab7d37ec4bc6",
      "metadata": {
        "id": "e92c4aa4-b5cb-4e20-96af-ab7d37ec4bc6"
      },
      "outputs": [],
      "source": []
    },
    {
      "cell_type": "code",
      "execution_count": null,
      "id": "a307fc99",
      "metadata": {
        "id": "a307fc99"
      },
      "outputs": [],
      "source": []
    }
  ],
  "metadata": {
    "kernelspec": {
      "display_name": "Python 3 (ipykernel)",
      "language": "python",
      "name": "python3"
    },
    "language_info": {
      "codemirror_mode": {
        "name": "ipython",
        "version": 3
      },
      "file_extension": ".py",
      "mimetype": "text/x-python",
      "name": "python",
      "nbconvert_exporter": "python",
      "pygments_lexer": "ipython3",
      "version": "3.1.0"
    },
    "colab": {
      "provenance": [],
      "include_colab_link": true
    }
  },
  "nbformat": 4,
  "nbformat_minor": 5
}